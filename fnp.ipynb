{
  "nbformat": 4,
  "nbformat_minor": 0,
  "metadata": {
    "colab": {
      "provenance": [],
      "authorship_tag": "ABX9TyMvRsAGzy4yR7d41imm5Tks",
      "include_colab_link": true
    },
    "kernelspec": {
      "name": "python3",
      "display_name": "Python 3"
    },
    "language_info": {
      "name": "python"
    }
  },
  "cells": [
    {
      "cell_type": "markdown",
      "metadata": {
        "id": "view-in-github",
        "colab_type": "text"
      },
      "source": [
        "<a href=\"https://colab.research.google.com/github/anirudhoswal/learning-python/blob/main/fnp.ipynb\" target=\"_parent\"><img src=\"https://colab.research.google.com/assets/colab-badge.svg\" alt=\"Open In Colab\"/></a>"
      ]
    },
    {
      "cell_type": "markdown",
      "source": [
        "1. Positional Arguments\n",
        "Definition: These are arguments passed to a function in the order they are defined.\n",
        "\n",
        "Handling: Python assigns each argument to a parameter based on its position.\n",
        "\n",
        "Use Case: Use when the order of arguments is fixed and clear.\n",
        "\n",
        "Example:"
      ],
      "metadata": {
        "id": "Y8j_CuDA2L7X"
      }
    },
    {
      "cell_type": "code",
      "execution_count": 2,
      "metadata": {
        "id": "_xwMY61p1mE2",
        "colab": {
          "base_uri": "https://localhost:8080/"
        },
        "outputId": "c14ecd34-e550-40c9-b7d7-adea443ab6de"
      },
      "outputs": [
        {
          "output_type": "stream",
          "name": "stdout",
          "text": [
            "Hello, Alice! You are 30.\n"
          ]
        }
      ],
      "source": [
        "def greet(name, age):\n",
        "    print(f\"Hello, {name}! You are {age}.\")\n",
        "greet(\"Alice\", 30)"
      ]
    },
    {
      "cell_type": "markdown",
      "source": [
        "2. Keyword Arguments (Named Arguments)\n",
        "Definition: These are arguments passed using the parameter name followed by an equals sign and the value.\n",
        "\n",
        "Handling: Python assigns each argument to a parameter based on its name, regardless of order.\n",
        "\n",
        "Use Case: Use for clarity and flexibility, especially when there are many parameters.\n",
        "\n",
        "Example:"
      ],
      "metadata": {
        "id": "j6LfNPkH2PMy"
      }
    },
    {
      "cell_type": "code",
      "source": [
        "def greet(name, age):\n",
        "    print(f\"Hello, {name}! You are {age}.\")\n",
        "greet(age=30, name=\"Alice\")\n"
      ],
      "metadata": {
        "colab": {
          "base_uri": "https://localhost:8080/"
        },
        "id": "DGxYQaQJ2AaS",
        "outputId": "6810bb49-767b-4f48-d712-4c857620243e"
      },
      "execution_count": 3,
      "outputs": [
        {
          "output_type": "stream",
          "name": "stdout",
          "text": [
            "Hello, Alice! You are 30.\n"
          ]
        }
      ]
    },
    {
      "cell_type": "markdown",
      "source": [
        "3. Default Arguments\n",
        "Definition: These are arguments with predefined values used if no value is passed during the function call.\n",
        "\n",
        "Handling: Python evaluates default arguments once at function definition time, not each time the function is called.\n",
        "\n",
        "Use Case: Use when some arguments have common default values.\n",
        "\n",
        "Example:"
      ],
      "metadata": {
        "id": "cE8G4h1H21bm"
      }
    },
    {
      "cell_type": "code",
      "source": [
        "def greet(name, age=30):\n",
        "    print(f\"Hello, {name}! You are {age}.\")\n",
        "greet(age=10,name=\"Alice\")  # Uses default age\n"
      ],
      "metadata": {
        "colab": {
          "base_uri": "https://localhost:8080/"
        },
        "id": "PJBrTZkT2Cl_",
        "outputId": "ce2437bd-b5a2-4200-fef8-48c8302f18a5"
      },
      "execution_count": 10,
      "outputs": [
        {
          "output_type": "stream",
          "name": "stdout",
          "text": [
            "Hello, Alice! You are 10.\n"
          ]
        }
      ]
    },
    {
      "cell_type": "markdown",
      "source": [
        "4. Arbitrary Positional Arguments (*args)\n",
        "Definition: These allow a function to accept a variable number of positional arguments.\n",
        "\n",
        "Handling: Python collects these arguments into a tuple named args.\n",
        "\n",
        "Use Case: Use when the number of arguments is variable but they are all positional.\n",
        "\n",
        "Example:"
      ],
      "metadata": {
        "id": "sdu2fArI2e2v"
      }
    },
    {
      "cell_type": "code",
      "source": [
        "def sum_numbers(*args):\n",
        "    return sum(args)\n",
        "print(sum_numbers(1, 2, 3, 4))  # Output: 10\n"
      ],
      "metadata": {
        "colab": {
          "base_uri": "https://localhost:8080/"
        },
        "id": "hTGPwlYU2EQ6",
        "outputId": "e830e6c2-96ca-4727-aa53-a97a40453311"
      },
      "execution_count": 5,
      "outputs": [
        {
          "output_type": "stream",
          "name": "stdout",
          "text": [
            "10\n"
          ]
        }
      ]
    },
    {
      "cell_type": "markdown",
      "source": [
        "5. Arbitrary Keyword Arguments (**kwargs)\n",
        "Definition: These allow a function to accept a variable number of keyword arguments.\n",
        "\n",
        "Handling: Python collects these arguments into a dictionary named kwargs.\n",
        "\n",
        "Use Case: Use when the number of keyword arguments is variable.\n",
        "\n",
        "Example:"
      ],
      "metadata": {
        "id": "tv88pULH2bI0"
      }
    },
    {
      "cell_type": "code",
      "source": [
        "def greet(**kwargs):\n",
        "    print(kwargs)\n",
        "greet(name=\"Alice\", age=30)  # Output: {'name': 'Alice', 'age': 30}\n"
      ],
      "metadata": {
        "colab": {
          "base_uri": "https://localhost:8080/"
        },
        "id": "KiOGEnxP2F0Q",
        "outputId": "731d3d2e-f7ac-4821-bb58-3b61ad172f85"
      },
      "execution_count": 12,
      "outputs": [
        {
          "output_type": "stream",
          "name": "stdout",
          "text": [
            "{'name': 'Alice', 'age': 30}\n"
          ]
        }
      ]
    },
    {
      "cell_type": "markdown",
      "source": [
        "Here's an example that demonstrates the use of different types of arguments in a single function:"
      ],
      "metadata": {
        "id": "QdKWEaFp3FDi"
      }
    },
    {
      "cell_type": "code",
      "source": [
        "from typing import Tuple, Any\n",
        "\n",
        "def complex_function(\n",
        "    # Positional argument\n",
        "    name: str,\n",
        "\n",
        "    # Default argument\n",
        "    age: int = 30,\n",
        "\n",
        "    # Keyword-only argument\n",
        "    *,\n",
        "    occupation: str,\n",
        "\n",
        "    # Arbitrary positional arguments\n",
        "    #*args: Any,\n",
        "\n",
        "    # Arbitrary keyword arguments\n",
        "    **kwargs: Any\n",
        ") -> Tuple[str, int, str]:\n",
        "    \"\"\"\n",
        "    This function demonstrates various types of arguments.\n",
        "\n",
        "    Parameters:\n",
        "    - name: A required positional argument.\n",
        "    - age: An optional argument with a default value.\n",
        "    - occupation: A required keyword-only argument.\n",
        "    - *args: Arbitrary positional arguments.\n",
        "    - **kwargs: Arbitrary keyword arguments.\n",
        "\n",
        "    Returns:\n",
        "    A tuple containing name, age, and occupation.\n",
        "    \"\"\"\n",
        "\n",
        "    print(f\"Name: {name}\")\n",
        "    print(f\"Age: {age}\")\n",
        "    print(f\"Occupation: {occupation}\")\n",
        "\n",
        "    if args:\n",
        "        print(f\"Additional positional arguments: {args}\")\n",
        "\n",
        "    if kwargs:\n",
        "        print(f\"Additional keyword arguments: {kwargs}\")\n",
        "\n",
        "    return name, age, occupation\n",
        "\n",
        "# Example usage\n",
        "result = complex_function(\n",
        "    \"Alice\",  # Positional argument\n",
        "    age=25,   # Default argument override\n",
        "    occupation=\"Engineer\",  # Keyword-only argument\n",
        "    \"Math\", \"Science\",      # Arbitrary positional arguments\n",
        "    hobby=\"Reading\",        # Arbitrary keyword argument\n",
        "    favorite_color=\"Blue\"   # Arbitrary keyword argument\n",
        ")\n",
        "\n",
        "print(result)\n"
      ],
      "metadata": {
        "id": "E0-ShL943ELJ",
        "outputId": "ead16eec-1e16-4d1b-9838-b1e0f698932c",
        "colab": {
          "base_uri": "https://localhost:8080/",
          "height": 106
        }
      },
      "execution_count": 18,
      "outputs": [
        {
          "output_type": "error",
          "ename": "SyntaxError",
          "evalue": "positional argument follows keyword argument (<ipython-input-18-c52436f3700b>, line 54)",
          "traceback": [
            "\u001b[0;36m  File \u001b[0;32m\"<ipython-input-18-c52436f3700b>\"\u001b[0;36m, line \u001b[0;32m54\u001b[0m\n\u001b[0;31m    )\u001b[0m\n\u001b[0m    ^\u001b[0m\n\u001b[0;31mSyntaxError\u001b[0m\u001b[0;31m:\u001b[0m positional argument follows keyword argument\n"
          ]
        }
      ]
    }
  ]
}
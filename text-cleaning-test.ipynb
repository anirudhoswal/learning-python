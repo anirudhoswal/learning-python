{
  "nbformat": 4,
  "nbformat_minor": 0,
  "metadata": {
    "colab": {
      "provenance": [],
      "authorship_tag": "ABX9TyNNzL9BLOmD4MkVO0ODbxEQ",
      "include_colab_link": true
    },
    "kernelspec": {
      "name": "python3",
      "display_name": "Python 3"
    },
    "language_info": {
      "name": "python"
    }
  },
  "cells": [
    {
      "cell_type": "markdown",
      "metadata": {
        "id": "view-in-github",
        "colab_type": "text"
      },
      "source": [
        "<a href=\"https://colab.research.google.com/github/anirudhoswal/learning-python/blob/main/text-cleaning-test.ipynb\" target=\"_parent\"><img src=\"https://colab.research.google.com/assets/colab-badge.svg\" alt=\"Open In Colab\"/></a>"
      ]
    },
    {
      "cell_type": "code",
      "execution_count": 4,
      "metadata": {
        "id": "tLw6bOyZk23a",
        "outputId": "1f4ba509-fd90-4825-8cf3-6d381611dd65",
        "colab": {
          "base_uri": "https://localhost:8080/",
          "height": 35
        }
      },
      "outputs": [
        {
          "output_type": "execute_result",
          "data": {
            "text/plain": [
              "'The number of letters in the word \"apple\" is  '"
            ],
            "application/vnd.google.colaboratory.intrinsic+json": {
              "type": "string"
            }
          },
          "metadata": {},
          "execution_count": 4
        }
      ],
      "source": [
        "import re\n",
        "\n",
        "string = 'The number of letters in the word \"apple\" is 5'\n",
        "\n",
        "pattern = r'[0-9]'\n",
        "\n",
        "cleaned_string = re.sub(pattern,' ',string)\n",
        "cleaned_string"
      ]
    },
    {
      "cell_type": "code",
      "source": [
        "import nltk\n",
        "from nltk.stem import PorterStemmer\n",
        "\n",
        "# Download necessary NLTK resources if needed\n",
        "nltk.download('punkt')\n",
        "\n",
        "# Initialize the PorterStemmer\n",
        "ps = PorterStemmer()\n",
        "\n",
        "# Word to stem\n",
        "word = \"running\"\n",
        "\n",
        "# Get the stem of the word\n",
        "stemmed_word = ps.stem(word)\n",
        "\n",
        "print(stemmed_word)\n"
      ],
      "metadata": {
        "id": "ujtXkUuZl9Qf",
        "outputId": "778e65d1-ad2f-4a03-b2d0-f2ce7371bdbf",
        "colab": {
          "base_uri": "https://localhost:8080/"
        }
      },
      "execution_count": 5,
      "outputs": [
        {
          "output_type": "stream",
          "name": "stderr",
          "text": [
            "[nltk_data] Downloading package punkt to /root/nltk_data...\n",
            "[nltk_data]   Unzipping tokenizers/punkt.zip.\n"
          ]
        },
        {
          "output_type": "stream",
          "name": "stdout",
          "text": [
            "run\n"
          ]
        }
      ]
    },
    {
      "cell_type": "code",
      "source": [
        "import re\n",
        "\n",
        "string = 'Emp 1230 Join_Date 23092017'\n",
        "\n",
        "pattern = r'[^0-9]'\n",
        "\n",
        "cleaned_string = re.sub(pattern,' ',string)\n",
        "print(cleaned_string)"
      ],
      "metadata": {
        "id": "gI7iYX8EragX",
        "outputId": "c3e632e2-3725-45eb-e4ac-7ee829dd58f0",
        "colab": {
          "base_uri": "https://localhost:8080/"
        }
      },
      "execution_count": 6,
      "outputs": [
        {
          "output_type": "stream",
          "name": "stdout",
          "text": [
            "    1230           23092017\n"
          ]
        }
      ]
    }
  ]
}